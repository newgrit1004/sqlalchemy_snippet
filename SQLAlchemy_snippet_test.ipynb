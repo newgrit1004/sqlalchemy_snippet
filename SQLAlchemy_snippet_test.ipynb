{
 "cells": [
  {
   "cell_type": "markdown",
   "metadata": {},
   "source": [
    "# Create Table"
   ]
  },
  {
   "cell_type": "code",
   "execution_count": 1,
   "metadata": {},
   "outputs": [
    {
     "name": "stdout",
     "output_type": "stream",
     "text": [
      "testdb created\n"
     ]
    }
   ],
   "source": [
    "from sqlalchemy import create_engine\n",
    "from sqlalchemy_utils import create_database, database_exists\n",
    "from util.config import setting\n",
    "from db.service.database import engine\n",
    "from db.service.model import Base\n",
    "\n",
    "if database_exists(setting.testdb_uri):\n",
    "    print(\"testdb already exists\")\n",
    "if not database_exists(setting.testdb_uri):\n",
    "    create_database(setting.testdb_uri)\n",
    "Base.metadata.create_all(bind=engine)\n",
    "print(\"testdb created\")"
   ]
  },
  {
   "cell_type": "markdown",
   "metadata": {},
   "source": [
    "# Insert value into table"
   ]
  },
  {
   "cell_type": "code",
   "execution_count": 1,
   "metadata": {},
   "outputs": [],
   "source": [
    "from db.service.model import Student\n",
    "from db.service.database import SessionLocal\n",
    "from db.crud.insert import general_insert_value\n",
    "\n",
    "row_list = [{\"name\":\"Lisa\", \"age\":20},\n",
    "            {\"name\":\"Charlie\", \"age\":21},\n",
    "            {\"name\":\"David\", \"age\":20},\n",
    "            {\"name\":\"Adam\", \"age\":21},\n",
    "            {\"name\":\"Chris\", \"age\":24},\n",
    "            {\"name\":\"Bobby\", \"age\":23},]\n",
    "\n",
    "for row in row_list:\n",
    "    general_insert_value(SessionLocal, Student, row)"
   ]
  },
  {
   "cell_type": "markdown",
   "metadata": {},
   "source": [
    "# Read data form table"
   ]
  },
  {
   "cell_type": "code",
   "execution_count": 2,
   "metadata": {},
   "outputs": [
    {
     "name": "stdout",
     "output_type": "stream",
     "text": [
      "[<db.service.model.Student object at 0x109e08130>, <db.service.model.Student object at 0x109e080a0>, <db.service.model.Student object at 0x109e08160>, <db.service.model.Student object at 0x109e081c0>, <db.service.model.Student object at 0x109e08220>, <db.service.model.Student object at 0x109e08250>]\n"
     ]
    }
   ],
   "source": [
    "with SessionLocal() as session:\n",
    "    query_results = session.query(Student).all()\n",
    "\n",
    "print(query_results)"
   ]
  },
  {
   "cell_type": "code",
   "execution_count": 3,
   "metadata": {},
   "outputs": [
    {
     "data": {
      "text/plain": [
       "[{'age': 20, 'name': 'Lisa', 'id': 3},\n",
       " {'age': 21, 'name': 'Charlie', 'id': 4},\n",
       " {'age': 20, 'name': 'David', 'id': 5},\n",
       " {'age': 21, 'name': 'Adam', 'id': 6},\n",
       " {'age': 24, 'name': 'Chris', 'id': 7},\n",
       " {'age': 23, 'name': 'Bobby', 'id': 8}]"
      ]
     },
     "execution_count": 3,
     "metadata": {},
     "output_type": "execute_result"
    }
   ],
   "source": [
    "from db.util import query_results_to_dict\n",
    "query_results_to_dict(query_results)"
   ]
  },
  {
   "cell_type": "code",
   "execution_count": 4,
   "metadata": {},
   "outputs": [
    {
     "name": "stdout",
     "output_type": "stream",
     "text": [
      "[('Lisa', 20), ('Charlie', 21), ('David', 20), ('Adam', 21), ('Chris', 24), ('Bobby', 23)]\n"
     ]
    }
   ],
   "source": [
    "with SessionLocal() as session:\n",
    "    query_results = session.query(Student.name, Student.age).all()\n",
    "\n",
    "print(query_results)"
   ]
  },
  {
   "cell_type": "code",
   "execution_count": 5,
   "metadata": {},
   "outputs": [
    {
     "data": {
      "text/plain": [
       "[{'name': 'Lisa', 'age': 20},\n",
       " {'name': 'Charlie', 'age': 21},\n",
       " {'name': 'David', 'age': 20},\n",
       " {'name': 'Adam', 'age': 21},\n",
       " {'name': 'Chris', 'age': 24},\n",
       " {'name': 'Bobby', 'age': 23}]"
      ]
     },
     "execution_count": 5,
     "metadata": {},
     "output_type": "execute_result"
    }
   ],
   "source": [
    "query_results_to_dict(query_results)"
   ]
  },
  {
   "cell_type": "markdown",
   "metadata": {},
   "source": [
    "# Read data from table using SingleTableSQLInterface"
   ]
  },
  {
   "cell_type": "code",
   "execution_count": 6,
   "metadata": {},
   "outputs": [
    {
     "data": {
      "text/plain": [
       "[{'name': 'Lisa', 'age': 20}, {'name': 'David', 'age': 20}]"
      ]
     },
     "execution_count": 6,
     "metadata": {},
     "output_type": "execute_result"
    }
   ],
   "source": [
    "from db.crud.read import SingleTableSQLInterface\n",
    "columns = [\"name\", \"age\"]\n",
    "orm_class = Student\n",
    "\n",
    "single_table_session = SingleTableSQLInterface(columns, SessionLocal, orm_class)\n",
    "\n",
    "required_dict = {'equal_condition' : {'age':20},\n",
    "                'order_by_condition':{'column':'age', 'option':\"asc\"},\n",
    "                # 'between_condition': {'column': 'signal_noise_ratio', 'from':10, 'end':11},\n",
    "                'limit_condition':100}\n",
    "\n",
    "single_table_session.load_query_result(**required_dict)\n"
   ]
  },
  {
   "cell_type": "code",
   "execution_count": 7,
   "metadata": {},
   "outputs": [
    {
     "data": {
      "text/plain": [
       "[{'name': 'Chris', 'age': 24},\n",
       " {'name': 'Bobby', 'age': 23},\n",
       " {'name': 'Charlie', 'age': 21},\n",
       " {'name': 'Adam', 'age': 21},\n",
       " {'name': 'Lisa', 'age': 20},\n",
       " {'name': 'David', 'age': 20}]"
      ]
     },
     "execution_count": 7,
     "metadata": {},
     "output_type": "execute_result"
    }
   ],
   "source": [
    "columns = [\"name\", \"age\"]\n",
    "orm_class = Student\n",
    "\n",
    "single_table_session = SingleTableSQLInterface(columns, SessionLocal, orm_class)\n",
    "\n",
    "required_dict = {'order_by_condition':{'column':'age', 'option':\"desc\"},\n",
    "                'between_condition': {'column': 'age', 'from':10, 'end':31},\n",
    "                'limit_condition':100}\n",
    "\n",
    "single_table_session.load_query_result(**required_dict)"
   ]
  },
  {
   "cell_type": "code",
   "execution_count": 8,
   "metadata": {},
   "outputs": [
    {
     "data": {
      "text/plain": [
       "[{'name': 'Chris', 'age': 24}, {'name': 'Bobby', 'age': 23}]"
      ]
     },
     "execution_count": 8,
     "metadata": {},
     "output_type": "execute_result"
    }
   ],
   "source": [
    "columns = [\"name\", \"age\"]\n",
    "orm_class = Student\n",
    "\n",
    "single_table_session = SingleTableSQLInterface(columns, SessionLocal, orm_class)\n",
    "\n",
    "required_dict = {'order_by_condition':{'column':'age', 'option':\"desc\"},\n",
    "                'between_condition': {'column': 'age', 'from':10, 'end':31},\n",
    "                'limit_condition':2}\n",
    "\n",
    "single_table_session.load_query_result(**required_dict)"
   ]
  },
  {
   "cell_type": "code",
   "execution_count": null,
   "metadata": {},
   "outputs": [],
   "source": []
  }
 ],
 "metadata": {
  "kernelspec": {
   "display_name": "Python 3.10.8 64-bit",
   "language": "python",
   "name": "python3"
  },
  "language_info": {
   "codemirror_mode": {
    "name": "ipython",
    "version": 3
   },
   "file_extension": ".py",
   "mimetype": "text/x-python",
   "name": "python",
   "nbconvert_exporter": "python",
   "pygments_lexer": "ipython3",
   "version": "3.10.8"
  },
  "orig_nbformat": 4,
  "vscode": {
   "interpreter": {
    "hash": "b0fa6594d8f4cbf19f97940f81e996739fb7646882a419484c72d19e05852a7e"
   }
  }
 },
 "nbformat": 4,
 "nbformat_minor": 2
}
